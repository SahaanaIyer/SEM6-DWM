{
  "nbformat": 4,
  "nbformat_minor": 0,
  "metadata": {
    "colab": {
      "name": "8609_DWM_Expt6_Part1",
      "provenance": []
    },
    "kernelspec": {
      "name": "python3",
      "display_name": "Python 3"
    },
    "language_info": {
      "name": "python"
    }
  },
  "cells": [
    {
      "cell_type": "code",
      "metadata": {
        "id": "QhbCvrFrS46X"
      },
      "source": [
        "# Loading libraries\n",
        "import numpy as np\n",
        "import pandas as pd\n",
        "import matplotlib.pyplot as plt\n",
        "%matplotlib inline"
      ],
      "execution_count": 1,
      "outputs": []
    },
    {
      "cell_type": "code",
      "metadata": {
        "id": "jppbN_a1S_9U"
      },
      "source": [
        "# Loading data\n",
        "air = np.array([ 20,60,100,140,180,220,260,300,340,380])\n",
        "evap = np.array([0.18, 0.37, 0.35, 0.78, 0.56, 0.75, 1.18, 1.36, 1.17, 1.65])"
      ],
      "execution_count": 2,
      "outputs": []
    },
    {
      "cell_type": "code",
      "metadata": {
        "colab": {
          "base_uri": "https://localhost:8080/"
        },
        "id": "_5fatU6rV8GC",
        "outputId": "ffd6f4da-48c4-4d72-b00b-6cad0e174e44"
      },
      "source": [
        "# Find N (no. of rows), Sum, Mean of each column\n",
        "print(\"N :\", np.size(air), np.size(evap))           \n",
        "print(\"Sum :\", np.sum(air), np.sum(evap))            \n",
        "print(\"Mean :\", np.mean(air), np.mean(evap))      "
      ],
      "execution_count": 3,
      "outputs": [
        {
          "output_type": "stream",
          "text": [
            "N : 10 10\n",
            "Sum : 2000 8.35\n",
            "Mean : 200.0 0.835\n"
          ],
          "name": "stdout"
        }
      ]
    },
    {
      "cell_type": "code",
      "metadata": {
        "colab": {
          "base_uri": "https://localhost:8080/"
        },
        "id": "tboKugwCWP8N",
        "outputId": "de083437-7365-4a43-f2fa-589ee400efaa"
      },
      "source": [
        "dair = air-np.mean(air)\n",
        "devap = evap-np.mean(evap)\n",
        "dair2 = (air-np.mean(air))**2\n",
        "devap2 = (evap-np.mean(evap))**2\n",
        "print(\"x1-xmean :\", dair)                                # xi - xmean\n",
        "print(\"y1-ymean :\", devap)                               # yi - ymean\n",
        "print(\"(x1-xmean)**2 :\", dair2)                          # (xi - xmean)**2\n",
        "print(\"(y1-ymean)**2 :\", devap2)                         # (yi - ymean)**2"
      ],
      "execution_count": 4,
      "outputs": [
        {
          "output_type": "stream",
          "text": [
            "x1-xmean : [-180. -140. -100.  -60.  -20.   20.   60.  100.  140.  180.]\n",
            "y1-ymean : [-0.655 -0.465 -0.485 -0.055 -0.275 -0.085  0.345  0.525  0.335  0.815]\n",
            "(x1-xmean)**2 : [32400. 19600. 10000.  3600.   400.   400.  3600. 10000. 19600. 32400.]\n",
            "(y1-ymean)**2 : [0.429025 0.216225 0.235225 0.003025 0.075625 0.007225 0.119025 0.275625\n",
            " 0.112225 0.664225]\n"
          ],
          "name": "stdout"
        }
      ]
    },
    {
      "cell_type": "code",
      "metadata": {
        "colab": {
          "base_uri": "https://localhost:8080/"
        },
        "id": "aWHPMEwdWQPo",
        "outputId": "dad60803-5e0e-4f4f-8530-cb64653b7ae6"
      },
      "source": [
        "b1 = np.sum(dair*devap) / np.sum(dair2)                  # Finding regression coefficients\n",
        "b0 = np.mean(evap) - b1 * np.mean(air)\n",
        "print(\"Regression Coefficients :\", b0, b1)"
      ],
      "execution_count": 5,
      "outputs": [
        {
          "output_type": "stream",
          "text": [
            "Regression Coefficients : 0.06924242424242422 0.0038287878787878786\n"
          ],
          "name": "stdout"
        }
      ]
    },
    {
      "cell_type": "code",
      "metadata": {
        "colab": {
          "base_uri": "https://localhost:8080/"
        },
        "id": "CU3DOVThWQnD",
        "outputId": "d221d0ca-803c-4670-ce4f-4d4607e631e4"
      },
      "source": [
        "std_air = np.sqrt(np.sum(dair2)/np.size(air))            # Finding standard deviations\n",
        "std_evap = np.sqrt(np.sum(devap2)/np.size(evap))\n",
        "print(\"Standard Deviation :\", std_air, std_evap)"
      ],
      "execution_count": 6,
      "outputs": [
        {
          "output_type": "stream",
          "text": [
            "Standard Deviation : 114.89125293076057 0.4623256428103464\n"
          ],
          "name": "stdout"
        }
      ]
    },
    {
      "cell_type": "code",
      "metadata": {
        "colab": {
          "base_uri": "https://localhost:8080/"
        },
        "id": "A_E2b8q-hGIw",
        "outputId": "f1b45600-4e2c-4b37-e8db-54490ed974e0"
      },
      "source": [
        "# Finding R-squared value\n",
        "(np.sum(dair * devap) / (np.size(air) * std_air * std_evap)) ** 2"
      ],
      "execution_count": 7,
      "outputs": [
        {
          "output_type": "execute_result",
          "data": {
            "text/plain": [
              "0.9053167998967897"
            ]
          },
          "metadata": {
            "tags": []
          },
          "execution_count": 7
        }
      ]
    },
    {
      "cell_type": "code",
      "metadata": {
        "colab": {
          "base_uri": "https://localhost:8080/"
        },
        "id": "wXkHxg_DhwZO",
        "outputId": "e9cf2c9a-5301-44f7-d988-1ee0afb7b1c0"
      },
      "source": [
        "# Predicting evaporation coefficient when air velocity is 240\n",
        "x_air = 240\n",
        "x_evap = b0 + b1 * x_air      # y = b0 + b1 * x\n",
        "print(x_evap)"
      ],
      "execution_count": 8,
      "outputs": [
        {
          "output_type": "stream",
          "text": [
            "0.9881515151515151\n"
          ],
          "name": "stdout"
        }
      ]
    }
  ]
}